{
 "cells": [
  {
   "cell_type": "markdown",
   "metadata": {},
   "source": [
    "What is CSV?"
   ]
  },
  {
   "cell_type": "markdown",
   "metadata": {},
   "source": [
    "Comma Seperated Values"
   ]
  },
  {
   "cell_type": "code",
   "execution_count": 2,
   "metadata": {},
   "outputs": [],
   "source": [
    "data = [\n",
    "    ['Name', 'Age', 'Occupation'],\n",
    "    ['Alice', 30, 'Engineer'],\n",
    "    ['Bob', 25, 'Designer'],\n",
    "    ['Charlie', 35, 'Teacher']\n",
    "]"
   ]
  },
  {
   "cell_type": "markdown",
   "metadata": {},
   "source": [
    "Pandas"
   ]
  },
  {
   "cell_type": "raw",
   "metadata": {
    "vscode": {
     "languageId": "raw"
    }
   },
   "source": [
    "Pandas is a powerful library in Python for data analysis and manipulation. It is particularly useful for\n",
    "working with tabular data, like CSV files, because it provides easy-to-use methods for reading, writing,\n",
    "and analyzing data.\n",
    "\n",
    "pip install pandas\n"
   ]
  },
  {
   "cell_type": "code",
   "execution_count": 20,
   "metadata": {},
   "outputs": [
    {
     "name": "stdout",
     "output_type": "stream",
     "text": [
      "       Name  Age  Marks\n",
      "0    Shreya   15     45\n",
      "1  Priyansh   50     67\n"
     ]
    }
   ],
   "source": [
    "import pandas as pd\n",
    "\n",
    "Student={\n",
    "    \"Name\":[\"Shreya\", \"Priyansh\"],\n",
    "    \"Age\":[15,50],\n",
    "    \"Marks\":[45,67]\n",
    "}\n",
    "\n",
    "Student_frame=pd.DataFrame(Student)\n",
    "\n",
    "print(Student_frame)\n",
    "\n"
   ]
  },
  {
   "cell_type": "code",
   "execution_count": 21,
   "metadata": {},
   "outputs": [
    {
     "name": "stdout",
     "output_type": "stream",
     "text": [
      "     company       location industry  total_laid_off  percentage_laid_off  \\\n",
      "0  Atlassian         Sydney    Other           500.0                 0.05   \n",
      "1   SiriusXM  New York City    Media           475.0                 0.08   \n",
      "2     Alerzo         Ibadan   Retail           400.0                  NaN   \n",
      "\n",
      "       date     stage        country  funds_raised_millions  \n",
      "0  3/6/2023  Post-IPO      Australia                  210.0  \n",
      "1  3/6/2023  Post-IPO  United States                  525.0  \n",
      "2  3/6/2023  Series B        Nigeria                   16.0  \n",
      "<class 'pandas.core.frame.DataFrame'>\n",
      "RangeIndex: 2361 entries, 0 to 2360\n",
      "Data columns (total 9 columns):\n",
      " #   Column                 Non-Null Count  Dtype  \n",
      "---  ------                 --------------  -----  \n",
      " 0   company                2361 non-null   object \n",
      " 1   location               2361 non-null   object \n",
      " 2   industry               2357 non-null   object \n",
      " 3   total_laid_off         1621 non-null   float64\n",
      " 4   percentage_laid_off    1576 non-null   float64\n",
      " 5   date                   2360 non-null   object \n",
      " 6   stage                  2355 non-null   object \n",
      " 7   country                2361 non-null   object \n",
      " 8   funds_raised_millions  2152 non-null   float64\n",
      "dtypes: float64(3), object(6)\n",
      "memory usage: 166.1+ KB\n",
      "None\n"
     ]
    }
   ],
   "source": [
    "#how to read and write to a csv file\n",
    "import pandas as pd\n",
    "df=pd.read_csv(\"C:\\\\Users\\\\mehna\\\\OneDrive\\\\Desktop\\\\Seminar\\\\Pandas\\\\layoffs.csv\")\n",
    "\n",
    "print(df.head(3))\n",
    "\n",
    "print(df.info())\n",
    "\n",
    "\n",
    "Student={\n",
    "    \"Name\":[\"Shreya\", \"Priyansh\"],\n",
    "    \"Age\":[15,50],\n",
    "    \"Marks\":[45,67]\n",
    "}\n",
    "\n",
    "Student_frame=pd.DataFrame(Student)\n",
    "\n",
    "Student_frame.to_csv(\"Student_data.csv\", index=False)\n",
    "\n"
   ]
  },
  {
   "cell_type": "raw",
   "metadata": {
    "vscode": {
     "languageId": "raw"
    }
   },
   "source": [
    "How to access particular columns"
   ]
  },
  {
   "cell_type": "code",
   "execution_count": 32,
   "metadata": {},
   "outputs": [
    {
     "name": "stdout",
     "output_type": "stream",
     "text": [
      "67\n",
      "0    45\n",
      "1    67\n",
      "2    89\n",
      "3    57\n",
      "Name: Marks, dtype: int64\n",
      "      Name  Age  Marks\n",
      "2    Priya   20     89\n",
      "3  Saurabh   34     57\n"
     ]
    }
   ],
   "source": [
    "import pandas as pd\n",
    "\n",
    "Student={\n",
    "    \"Name\":[\"Shreya\", \"Priyansh\", \"Priya\", \"Saurabh\"],\n",
    "    \"Age\":[15,50, 20, 34,],\n",
    "    \"Marks\":[45,67, 89, 57]\n",
    "    \n",
    "}\n",
    "\n",
    "df=pd.DataFrame(Student)\n",
    "\n",
    "print(df.iloc[1,2]) #row and then column\n",
    "\n",
    "y=df['Marks']\n",
    "print(y)\n",
    "\n",
    "#how to acess data based on a condition\n",
    "\n",
    "#marks should be more than 50\n",
    "\n",
    "df1=df[(df['Marks']>50) & (df['Age']<50)] \n",
    "\n",
    "print(df1.head())\n",
    "\n",
    "\n"
   ]
  }
 ],
 "metadata": {
  "kernelspec": {
   "display_name": "Python 3",
   "language": "python",
   "name": "python3"
  },
  "language_info": {
   "codemirror_mode": {
    "name": "ipython",
    "version": 3
   },
   "file_extension": ".py",
   "mimetype": "text/x-python",
   "name": "python",
   "nbconvert_exporter": "python",
   "pygments_lexer": "ipython3",
   "version": "3.8.10"
  }
 },
 "nbformat": 4,
 "nbformat_minor": 2
}
