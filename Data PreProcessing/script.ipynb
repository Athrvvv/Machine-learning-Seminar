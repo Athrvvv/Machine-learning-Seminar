{
 "cells": [
  {
   "cell_type": "markdown",
   "metadata": {},
   "source": []
  },
  {
   "cell_type": "code",
   "execution_count": 4,
   "metadata": {},
   "outputs": [
    {
     "name": "stdout",
     "output_type": "stream",
     "text": [
      "     company       location industry  total_laid_off  percentage_laid_off  \\\n",
      "0  Atlassian         Sydney    Other           500.0                 0.05   \n",
      "1   SiriusXM  New York City    Media           475.0                 0.08   \n",
      "2     Alerzo         Ibadan   Retail           400.0                  NaN   \n",
      "\n",
      "       date     stage        country  funds_raised_millions  \n",
      "0  3/6/2023  Post-IPO      Australia                  210.0  \n",
      "1  3/6/2023  Post-IPO  United States                  525.0  \n",
      "2  3/6/2023  Series B        Nigeria                   16.0  \n",
      "<class 'pandas.core.frame.DataFrame'>\n",
      "RangeIndex: 2361 entries, 0 to 2360\n",
      "Data columns (total 9 columns):\n",
      " #   Column                 Non-Null Count  Dtype  \n",
      "---  ------                 --------------  -----  \n",
      " 0   company                2361 non-null   object \n",
      " 1   location               2361 non-null   object \n",
      " 2   industry               2357 non-null   object \n",
      " 3   total_laid_off         1621 non-null   float64\n",
      " 4   percentage_laid_off    1576 non-null   float64\n",
      " 5   date                   2360 non-null   object \n",
      " 6   stage                  2355 non-null   object \n",
      " 7   country                2361 non-null   object \n",
      " 8   funds_raised_millions  2152 non-null   float64\n",
      "dtypes: float64(3), object(6)\n",
      "memory usage: 166.1+ KB\n",
      "Get information about data types and missing values\n",
      " None\n"
     ]
    }
   ],
   "source": [
    "import pandas as pd\n",
    "\n",
    "# Loading the data into a DataFrame using pandas\n",
    "dataset = pd.read_csv(r\"layoffs.csv\")\n",
    "\n",
    "# Exploring the data\n",
    "print(dataset.head(3))\n",
    "print(\"Get information about data types and missing values\\n\", dataset.info())  # Get information about data types and missing values"
   ]
  },
  {
   "cell_type": "markdown",
   "metadata": {},
   "source": [
    "Handling Missing Values"
   ]
  },
  {
   "cell_type": "code",
   "execution_count": 5,
   "metadata": {},
   "outputs": [
    {
     "name": "stdout",
     "output_type": "stream",
     "text": [
      "Null Values per Column before handling them:\n",
      " company                   0.000000\n",
      "location                  0.000000\n",
      "industry                  0.169420\n",
      "total_laid_off           31.342651\n",
      "percentage_laid_off      33.248623\n",
      "date                      0.042355\n",
      "stage                     0.254130\n",
      "country                   0.000000\n",
      "funds_raised_millions     8.852181\n",
      "dtype: float64\n"
     ]
    }
   ],
   "source": [
    "print(\"Null Values per Column before handling them:\\n\", (dataset.isnull().sum() / dataset.shape[0]) * 100)\n",
    "# none are above 50% so we can choose to fill them using mean mode or other methods"
   ]
  },
  {
   "cell_type": "code",
   "execution_count": 6,
   "metadata": {},
   "outputs": [],
   "source": [
    "# Filling in categorical columns\n",
    "dataset['industry'] = dataset['industry'].fillna(dataset['industry'].mode()[0])\n",
    "dataset['stage'] = dataset['stage'].fillna(dataset['stage'].mode()[0])\n",
    "\n",
    "# Forward filling the dates\n",
    "dataset['date'] = dataset['date'].fillna(method='ffill')\n",
    "\n",
    "# Filling in numerical columns\n",
    "dataset['percentage_laid_off'] = dataset['percentage_laid_off'].fillna(dataset['percentage_laid_off'].mean())  # it is normally distributed with little chances of outliers so we use mean\n",
    "dataset['total_laid_off'] = dataset['total_laid_off'].fillna(dataset['total_laid_off'].median())  # it is not normally distributed and thus used median\n",
    "dataset['funds_raised_millions'] = dataset['funds_raised_millions'].fillna(dataset['funds_raised_millions'].median())  # it is not normally distributed and thus used median"
   ]
  },
  {
   "cell_type": "code",
   "execution_count": 7,
   "metadata": {},
   "outputs": [
    {
     "name": "stdout",
     "output_type": "stream",
     "text": [
      "Null Values per Column After handling them:\n",
      " company                  0.0\n",
      "location                 0.0\n",
      "industry                 0.0\n",
      "total_laid_off           0.0\n",
      "percentage_laid_off      0.0\n",
      "date                     0.0\n",
      "stage                    0.0\n",
      "country                  0.0\n",
      "funds_raised_millions    0.0\n",
      "dtype: float64\n"
     ]
    }
   ],
   "source": [
    "print(\"Null Values per Column After handling them:\\n\", (dataset.isnull().sum() / dataset.shape[0]) * 100)"
   ]
  },
  {
   "cell_type": "markdown",
   "metadata": {},
   "source": [
    "REPLACING AND HANDLING DATATYPES"
   ]
  },
  {
   "cell_type": "code",
   "execution_count": 8,
   "metadata": {},
   "outputs": [],
   "source": [
    "dataset['date'] = pd.to_datetime(dataset['date'])  # Convert the date column to datetime type"
   ]
  },
  {
   "cell_type": "markdown",
   "metadata": {},
   "source": [
    "HANDLING DUPLICATES"
   ]
  },
  {
   "cell_type": "code",
   "execution_count": 10,
   "metadata": {},
   "outputs": [],
   "source": [
    "dataset.drop_duplicates(inplace=True)"
   ]
  },
  {
   "cell_type": "markdown",
   "metadata": {},
   "source": [
    "ENCODING THE DATASET"
   ]
  },
  {
   "cell_type": "code",
   "execution_count": 11,
   "metadata": {},
   "outputs": [],
   "source": [
    "from sklearn.preprocessing import LabelEncoder\n",
    "\n",
    "# Initialize LabelEncoder\n",
    "label_encoder = LabelEncoder()\n",
    "\n",
    "# Apply Label Encoding to categorical columns\n",
    "categorical_columns = ['company', 'location', 'industry', 'country', 'stage']\n",
    "for column in categorical_columns:\n",
    "    dataset[column] = label_encoder.fit_transform(dataset[column])\n"
   ]
  },
  {
   "cell_type": "code",
   "execution_count": 12,
   "metadata": {},
   "outputs": [
    {
     "name": "stdout",
     "output_type": "stream",
     "text": [
      "           company     location     industry  total_laid_off  \\\n",
      "count  2356.000000  2356.000000  2356.000000     2356.000000   \n",
      "mean    953.183786   113.582343    16.975382      187.936757   \n",
      "min       0.000000     0.000000     0.000000        3.000000   \n",
      "25%     474.750000    83.750000    10.000000       50.000000   \n",
      "50%     956.500000   131.000000    16.000000       80.000000   \n",
      "75%    1432.250000   148.000000    24.250000      110.000000   \n",
      "max    1892.000000   190.000000    31.000000    12000.000000   \n",
      "std     546.992207    52.956013     8.736010      641.849448   \n",
      "\n",
      "       percentage_laid_off                           date        stage  \\\n",
      "count          2356.000000                           2356  2356.000000   \n",
      "mean              0.257994  2022-02-02 16:48:29.337860864     6.138370   \n",
      "min               0.000000            2020-03-11 00:00:00     0.000000   \n",
      "25%               0.130000            2020-08-19 00:00:00     1.000000   \n",
      "50%               0.257917            2022-08-01 00:00:00     5.000000   \n",
      "75%               0.257917            2022-12-01 00:00:00     8.000000   \n",
      "max               1.000000            2023-03-06 00:00:00    15.000000   \n",
      "std               0.208987                            NaN     4.787585   \n",
      "\n",
      "           country  funds_raised_millions  \n",
      "count  2356.000000            2356.000000  \n",
      "mean     44.474533             763.998215  \n",
      "min       0.000000               0.000000  \n",
      "25%      25.000000              58.000000  \n",
      "50%      56.000000             156.500000  \n",
      "75%      56.000000             395.500000  \n",
      "max      59.000000          121900.000000  \n",
      "std      18.685343            5349.421017  \n",
      "(2356, 9)\n",
      "Cleaned data now saved to a file.\n"
     ]
    }
   ],
   "source": [
    "print(dataset.describe())\n",
    "print(dataset.shape)\n",
    "print(\"Cleaned data now saved to a file.\")\n",
    "\n",
    "dataset.to_csv('cleaned_data.csv', index=False)"
   ]
  }
 ],
 "metadata": {
  "kernelspec": {
   "display_name": "Python 3",
   "language": "python",
   "name": "python3"
  },
  "language_info": {
   "codemirror_mode": {
    "name": "ipython",
    "version": 3
   },
   "file_extension": ".py",
   "mimetype": "text/x-python",
   "name": "python",
   "nbconvert_exporter": "python",
   "pygments_lexer": "ipython3",
   "version": "3.8.10"
  }
 },
 "nbformat": 4,
 "nbformat_minor": 2
}
