{
 "cells": [
  {
   "cell_type": "markdown",
   "metadata": {},
   "source": [
    "Print Statement"
   ]
  },
  {
   "cell_type": "code",
   "execution_count": 1,
   "metadata": {},
   "outputs": [
    {
     "name": "stdout",
     "output_type": "stream",
     "text": [
      "Hello World\n"
     ]
    }
   ],
   "source": [
    "print(\"Hello World\")"
   ]
  },
  {
   "cell_type": "markdown",
   "metadata": {},
   "source": [
    "Comments"
   ]
  },
  {
   "cell_type": "code",
   "execution_count": 2,
   "metadata": {},
   "outputs": [],
   "source": [
    "#this is a comment"
   ]
  },
  {
   "cell_type": "markdown",
   "metadata": {},
   "source": [
    "Variables and Data Types"
   ]
  },
  {
   "cell_type": "raw",
   "metadata": {
    "vscode": {
     "languageId": "raw"
    }
   },
   "source": [
    "Basic Data Types"
   ]
  },
  {
   "cell_type": "code",
   "execution_count": 12,
   "metadata": {},
   "outputs": [
    {
     "name": "stdout",
     "output_type": "stream",
     "text": [
      "<class 'str'>\n",
      "<class 'int'>\n",
      "35.45\n",
      "<class 'float'>\n",
      "<class 'bool'>\n"
     ]
    }
   ],
   "source": [
    "#string\n",
    "name=\"Mehnaz\"\n",
    "name='Mehnaz'\n",
    "\n",
    "print(type(name))\n",
    "\n",
    "#integers\n",
    "number=10\n",
    "print(type(number))\n",
    "\n",
    "#float\n",
    "floatnumber=35.45\n",
    "print(floatnumber)\n",
    "print(type(floatnumber))\n",
    "\n",
    "#Boolean\n",
    "x= True\n",
    "y= False\n",
    "\n",
    "print(type(x))"
   ]
  },
  {
   "cell_type": "markdown",
   "metadata": {
    "vscode": {
     "languageId": "raw"
    }
   },
   "source": [
    "Collection Data Types"
   ]
  },
  {
   "cell_type": "code",
   "execution_count": 17,
   "metadata": {},
   "outputs": [
    {
     "data": {
      "text/plain": [
       "list"
      ]
     },
     "execution_count": 17,
     "metadata": {},
     "output_type": "execute_result"
    }
   ],
   "source": [
    "#list\n",
    "\n",
    "list_1=['cat', 'dog', 'elephant'] #a list can have all types of datatypes in them\n",
    "type(list_1)\n"
   ]
  },
  {
   "cell_type": "code",
   "execution_count": 18,
   "metadata": {},
   "outputs": [
    {
     "data": {
      "text/plain": [
       "['cat', 'dog', 'elephant']"
      ]
     },
     "execution_count": 18,
     "metadata": {},
     "output_type": "execute_result"
    }
   ],
   "source": [
    "list_1"
   ]
  },
  {
   "cell_type": "code",
   "execution_count": 20,
   "metadata": {},
   "outputs": [
    {
     "name": "stdout",
     "output_type": "stream",
     "text": [
      "cat\n"
     ]
    }
   ],
   "source": [
    "print(list_1[0])"
   ]
  },
  {
   "cell_type": "markdown",
   "metadata": {
    "vscode": {
     "languageId": "raw"
    }
   },
   "source": [
    "Dictionary"
   ]
  },
  {
   "cell_type": "raw",
   "metadata": {
    "vscode": {
     "languageId": "raw"
    }
   },
   "source": [
    "\n",
    "A dictionary in Python is a collection of key-value pairs that allows you to store and retrieve data efficiently.\n",
    "It is similar to a real-world dictionary where you look up a word (the key) to find its definition (the value).\n",
    "\n",
    "Key Features of Dictionaries:\n",
    "Unordered: Dictionaries do not maintain the order of items as lists do (though in Python 3.7+, they preserve insertion order).\n",
    "Mutable: You can add, remove, or update key-value pairs.\n",
    "Unique Keys: Each key in a dictionary must be unique. Values, however, can be duplicated.\n",
    "Fast Lookups: Dictionaries provide quick access to values using keys."
   ]
  },
  {
   "cell_type": "code",
   "execution_count": 23,
   "metadata": {},
   "outputs": [],
   "source": [
    "my_dict={\n",
    "    'name': \"Mehnaz\",\n",
    "    'age': 20,\n",
    "    'Branch': 'CS'\n",
    "    \n",
    "}"
   ]
  },
  {
   "cell_type": "code",
   "execution_count": 27,
   "metadata": {},
   "outputs": [
    {
     "name": "stdout",
     "output_type": "stream",
     "text": [
      "Mehnaz\n",
      "20\n"
     ]
    }
   ],
   "source": [
    "print(my_dict['name'])\n",
    "print(my_dict['age'])\n",
    "#print(my_dict['journal']) #error of having no key"
   ]
  },
  {
   "cell_type": "code",
   "execution_count": 32,
   "metadata": {},
   "outputs": [
    {
     "name": "stdout",
     "output_type": "stream",
     "text": [
      "dict_keys(['name', 'age', 'Branch'])\n",
      "dict_values(['Mehnaz', 20, 'CS'])\n",
      "dict_keys(['name', 'age', 'Branch'])\n"
     ]
    }
   ],
   "source": [
    "#methods used in dictionaries\n",
    "\n",
    "print(my_dict.keys())\n",
    "print(my_dict.values())\n",
    "\n",
    "key=my_dict.keys()\n",
    "print(key)"
   ]
  },
  {
   "cell_type": "code",
   "execution_count": 34,
   "metadata": {},
   "outputs": [],
   "source": [
    "#small use case:\n",
    "\n",
    "student = {\n",
    "    \"id\": 101,\n",
    "    \"name\": \"John Doe\",\n",
    "    \"grades\": [85, 90, 78],\n",
    "    \"graduated\": False\n",
    "}\n",
    "\n",
    "#ask them to practice various functions on this"
   ]
  },
  {
   "cell_type": "markdown",
   "metadata": {},
   "source": [
    "How do we take user inputted Data?"
   ]
  },
  {
   "cell_type": "code",
   "execution_count": 40,
   "metadata": {},
   "outputs": [
    {
     "name": "stdout",
     "output_type": "stream",
     "text": [
      "<class 'str'>\n",
      "<class 'int'>\n",
      "10\n"
     ]
    }
   ],
   "source": [
    "a=10\n",
    "b=str(a)\n",
    "print(type(b))\n",
    "\n",
    "x=int(input(\"Enter your no.: \"))\n",
    "print(type(x))\n",
    "print(x)"
   ]
  },
  {
   "cell_type": "markdown",
   "metadata": {},
   "source": [
    "Control Statements"
   ]
  },
  {
   "cell_type": "raw",
   "metadata": {
    "vscode": {
     "languageId": "raw"
    }
   },
   "source": [
    "If-Else Statements"
   ]
  },
  {
   "cell_type": "code",
   "execution_count": 54,
   "metadata": {},
   "outputs": [
    {
     "name": "stdout",
     "output_type": "stream",
     "text": [
      "Positive\n"
     ]
    }
   ],
   "source": [
    "x=int(input(\"Enter your no.: \"))\n",
    "\n",
    "#explain indentation aswell\n",
    "\n",
    "if x > 0:\n",
    "    print(\"Positive\")\n",
    "elif x == 0:\n",
    "    print(\"Zero\")\n",
    "else:\n",
    "    print(\"Negative\")\n"
   ]
  },
  {
   "cell_type": "raw",
   "metadata": {
    "vscode": {
     "languageId": "raw"
    }
   },
   "source": [
    "for loops"
   ]
  },
  {
   "cell_type": "code",
   "execution_count": 46,
   "metadata": {},
   "outputs": [
    {
     "name": "stdout",
     "output_type": "stream",
     "text": [
      "0\n",
      "1\n",
      "2\n"
     ]
    }
   ],
   "source": [
    "x=int(input(\"Enter your no.: \"))\n",
    "\n",
    "for i in range(x): \n",
    "    print(i)\n",
    "\n"
   ]
  },
  {
   "cell_type": "raw",
   "metadata": {
    "vscode": {
     "languageId": "raw"
    }
   },
   "source": [
    "while loop"
   ]
  },
  {
   "cell_type": "code",
   "execution_count": 52,
   "metadata": {},
   "outputs": [
    {
     "name": "stdout",
     "output_type": "stream",
     "text": [
      "4\n",
      "3\n",
      "2\n",
      "1\n",
      "0\n"
     ]
    }
   ],
   "source": [
    "x=int(input(\"Enter your no.: \"))\n",
    "\n",
    "while x >= 0:\n",
    "    print(x)\n",
    "    x -= 1"
   ]
  },
  {
   "cell_type": "markdown",
   "metadata": {},
   "source": [
    "Functions"
   ]
  },
  {
   "cell_type": "raw",
   "metadata": {
    "vscode": {
     "languageId": "raw"
    }
   },
   "source": [
    "a function is a block of reusable code that performs a specific task."
   ]
  },
  {
   "cell_type": "code",
   "execution_count": 51,
   "metadata": {},
   "outputs": [
    {
     "name": "stdout",
     "output_type": "stream",
     "text": [
      "8\n"
     ]
    }
   ],
   "source": [
    "n1=int(input(\"Enter Your first Number: \"))\n",
    "n2=int(input(\"Enter Your Second Number: \"))\n",
    "\n",
    "def add(n1,n2):\n",
    "    sum=n1+n2\n",
    "    #print(sum)\n",
    "    return sum\n",
    "\n",
    "sum=add(n1,n2)  #explain how we have to have the code of function before calling it\n",
    "print(sum)\n",
    "\n",
    "#explain functions in functions aswell"
   ]
  },
  {
   "cell_type": "markdown",
   "metadata": {
    "vscode": {
     "languageId": "raw"
    }
   },
   "source": [
    "Object and Classes"
   ]
  },
  {
   "cell_type": "code",
   "execution_count": 5,
   "metadata": {},
   "outputs": [
    {
     "name": "stdout",
     "output_type": "stream",
     "text": [
      "36\n"
     ]
    }
   ],
   "source": [
    "class className:\n",
    "    def __init__(self,attribute1, attribute2):\n",
    "        self.attribute1=attribute1\n",
    "        self.attibute2=attribute2\n",
    "    def method1(self, attribute3):\n",
    "        pass\n",
    "\n",
    "h=className(36,34)\n",
    "\n",
    "print(h.attribute1)"
   ]
  },
  {
   "cell_type": "raw",
   "metadata": {
    "vscode": {
     "languageId": "raw"
    }
   },
   "source": [
    "BankAccount\n",
    "\n",
    "acc_ID, balance, deposit, retrieve"
   ]
  },
  {
   "cell_type": "code",
   "execution_count": 17,
   "metadata": {},
   "outputs": [
    {
     "name": "stdout",
     "output_type": "stream",
     "text": [
      "4000\n",
      "5000\n",
      "4500\n",
      "You have retrieved 800 . Your BankAccount now has 3700 left.\n"
     ]
    }
   ],
   "source": [
    "class BankAccount:\n",
    "    def __init__(self, name, amount):\n",
    "        self.acc_ID = name\n",
    "        self.balance = amount\n",
    "    \n",
    "    def deposit(self, amount):\n",
    "        self.balance = self.balance + amount  # Correctly refer to the instance variable\n",
    "\n",
    "    def retrieve(self, amount):\n",
    "        self.balance = self.balance - amount\n",
    "\n",
    "# Creating instances\n",
    "Acc_1 = BankAccount('Mehnaz', 4000)\n",
    "print(Acc_1.balance)\n",
    "\n",
    "Acc_2 = BankAccount('Shreya', 5000)\n",
    "print(Acc_2.balance)\n",
    "\n",
    "Acc_1.deposit(500)\n",
    "print(Acc_1.balance)\n",
    "\n",
    "amount=800\n",
    "Acc_1.retrieve(amount)\n",
    "print('You have retrieved', amount, '. Your BankAccount now has', Acc_1.balance, 'left.' )\n"
   ]
  },
  {
   "cell_type": "code",
   "execution_count": null,
   "metadata": {},
   "outputs": [],
   "source": []
  }
 ],
 "metadata": {
  "kernelspec": {
   "display_name": "Python 3",
   "language": "python",
   "name": "python3"
  },
  "language_info": {
   "codemirror_mode": {
    "name": "ipython",
    "version": 3
   },
   "file_extension": ".py",
   "mimetype": "text/x-python",
   "name": "python",
   "nbconvert_exporter": "python",
   "pygments_lexer": "ipython3",
   "version": "3.8.10"
  }
 },
 "nbformat": 4,
 "nbformat_minor": 2
}
